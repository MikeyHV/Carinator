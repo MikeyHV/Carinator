{
 "cells": [
  {
   "cell_type": "code",
   "execution_count": 1,
   "id": "cf1a6bc5-1038-4054-865c-fce4caf114d8",
   "metadata": {},
   "outputs": [
    {
     "name": "stderr",
     "output_type": "stream",
     "text": [
      "C:\\Users\\pls\\miniconda3\\envs\\rltutorial\\lib\\site-packages\\tqdm\\auto.py:22: TqdmWarning: IProgress not found. Please update jupyter and ipywidgets. See https://ipywidgets.readthedocs.io/en/stable/user_install.html\n",
      "  from .autonotebook import tqdm as notebook_tqdm\n"
     ]
    }
   ],
   "source": [
    "import os\n",
    "import gym\n",
    "\n",
    "from stable_baselines3 import PPO\n",
    "from stable_baselines3.common.vec_env import DummyVecEnv # vectorize environemnts to train multiple environments at the same time\n",
    "from stable_baselines3.common.evaluation import evaluate_policy # testing the model"
   ]
  },
  {
   "cell_type": "code",
   "execution_count": 2,
   "id": "921bf61c-e72b-4146-8744-bda1816d404e",
   "metadata": {},
   "outputs": [],
   "source": [
    "env_name = \"CartPole-v0\"\n",
    "env = gym.make(env_name)"
   ]
  },
  {
   "cell_type": "code",
   "execution_count": 3,
   "id": "93ca53a1-5cb5-48e4-a2f2-c2bad4a9940d",
   "metadata": {
    "collapsed": true,
    "jupyter": {
     "outputs_hidden": true
    },
    "tags": []
   },
   "outputs": [
    {
     "name": "stdout",
     "output_type": "stream",
     "text": [
      "Episode:1 Score:18.0\n",
      "Episode:2 Score:20.0\n",
      "Episode:3 Score:47.0\n",
      "Episode:4 Score:23.0\n",
      "Episode:5 Score:25.0\n",
      "Episode:6 Score:23.0\n",
      "Episode:7 Score:13.0\n",
      "Episode:8 Score:16.0\n",
      "Episode:9 Score:30.0\n",
      "Episode:10 Score:22.0\n",
      "Episode:11 Score:17.0\n",
      "Episode:12 Score:12.0\n",
      "Episode:13 Score:43.0\n",
      "Episode:14 Score:14.0\n",
      "Episode:15 Score:20.0\n",
      "Episode:16 Score:21.0\n",
      "Episode:17 Score:25.0\n",
      "Episode:18 Score:22.0\n",
      "Episode:19 Score:55.0\n",
      "Episode:20 Score:30.0\n",
      "Episode:21 Score:19.0\n",
      "Episode:22 Score:21.0\n",
      "Episode:23 Score:37.0\n",
      "Episode:24 Score:10.0\n",
      "Episode:25 Score:16.0\n",
      "Episode:26 Score:39.0\n",
      "Episode:27 Score:24.0\n",
      "Episode:28 Score:41.0\n",
      "Episode:29 Score:14.0\n",
      "Episode:30 Score:23.0\n",
      "Episode:31 Score:13.0\n",
      "Episode:32 Score:11.0\n",
      "Episode:33 Score:20.0\n",
      "Episode:34 Score:36.0\n",
      "Episode:35 Score:22.0\n",
      "Episode:36 Score:25.0\n",
      "Episode:37 Score:22.0\n",
      "Episode:38 Score:17.0\n",
      "Episode:39 Score:16.0\n",
      "Episode:40 Score:14.0\n",
      "Episode:41 Score:16.0\n",
      "Episode:42 Score:16.0\n",
      "Episode:43 Score:25.0\n",
      "Episode:44 Score:18.0\n",
      "Episode:45 Score:22.0\n",
      "Episode:46 Score:23.0\n",
      "Episode:47 Score:36.0\n",
      "Episode:48 Score:44.0\n",
      "Episode:49 Score:30.0\n",
      "Episode:50 Score:20.0\n"
     ]
    }
   ],
   "source": [
    "episodes = 10\n",
    "\n",
    "for episode in range(1, episodes + 1):\n",
    "    state = env.reset()\n",
    "    done = False\n",
    "    score = 0\n",
    "    \n",
    "    while not done:\n",
    "        env.render()\n",
    "        action = env.action_space.sample()\n",
    "        n_state,reward,done, info = env.step(action)\n",
    "        score += reward\n",
    "    print(\"Episode:{} Score:{}\". format(episode,score))\n",
    "# env.close()"
   ]
  },
  {
   "cell_type": "code",
   "execution_count": 4,
   "id": "abe71e3a-f960-4605-8e41-62bc845ad751",
   "metadata": {},
   "outputs": [],
   "source": [
    "env.close()"
   ]
  },
  {
   "cell_type": "markdown",
   "id": "ec5884b0-03c6-4b36-ae07-cfd8dce95388",
   "metadata": {},
   "source": [
    "# Understanding the environmnent"
   ]
  },
  {
   "cell_type": "code",
   "execution_count": 5,
   "id": "ed37ff8f-b371-44a4-bdc3-8a8e39ef5545",
   "metadata": {},
   "outputs": [
    {
     "data": {
      "text/plain": [
       "1"
      ]
     },
     "execution_count": 5,
     "metadata": {},
     "output_type": "execute_result"
    }
   ],
   "source": [
    "env.action_space.sample()"
   ]
  },
  {
   "cell_type": "code",
   "execution_count": 6,
   "id": "e64f271b-f669-4cc9-ba48-612c46ef0ddf",
   "metadata": {},
   "outputs": [
    {
     "data": {
      "text/plain": [
       "array([ 2.1695623e+00, -1.1575530e+38, -2.2543426e-01, -3.3083310e+38],\n",
       "      dtype=float32)"
      ]
     },
     "execution_count": 6,
     "metadata": {},
     "output_type": "execute_result"
    }
   ],
   "source": [
    "env.observation_space.sample()"
   ]
  },
  {
   "cell_type": "markdown",
   "id": "001416d2-b476-48e1-8efa-ee6fc3e8838c",
   "metadata": {},
   "source": [
    "# Training"
   ]
  },
  {
   "cell_type": "code",
   "execution_count": null,
   "id": "4f84ef28-9125-483b-b863-ac0e310271fa",
   "metadata": {},
   "outputs": [],
   "source": [
    "log_path = os.path.join(\"Training\", \"Logs\")"
   ]
  }
 ],
 "metadata": {
  "kernelspec": {
   "display_name": "Python 3 (ipykernel)",
   "language": "python",
   "name": "python3"
  },
  "language_info": {
   "codemirror_mode": {
    "name": "ipython",
    "version": 3
   },
   "file_extension": ".py",
   "mimetype": "text/x-python",
   "name": "python",
   "nbconvert_exporter": "python",
   "pygments_lexer": "ipython3",
   "version": "3.7.16"
  }
 },
 "nbformat": 4,
 "nbformat_minor": 5
}
